{
 "cells": [
  {
   "cell_type": "code",
   "execution_count": 1,
   "metadata": {},
   "outputs": [],
   "source": [
    "import sklearn\n",
    "import sklearn.datasets as datasets\n",
    "from sklearn.decomposition import PCA\n",
    "from sklearn.cluster import KMeans\n",
    "from sklearn.metrics import silhouette_score, adjusted_rand_score\n",
    "from sklearn import metrics\n",
    "import matplotlib.pyplot as plt\n",
    "import pandas as pd"
   ]
  },
  {
   "cell_type": "code",
   "execution_count": 2,
   "metadata": {},
   "outputs": [],
   "source": [
    "faces_data = datasets.fetch_olivetti_faces()\n",
    "person_ids, image_array = faces_data['target'], faces_data.images\n",
    "X = image_array.reshape((len(person_ids), 64*64))"
   ]
  },
  {
   "cell_type": "code",
   "execution_count": 3,
   "metadata": {},
   "outputs": [
    {
     "name": "stdout",
     "output_type": "stream",
     "text": [
      "** 원본 데이터 군집화 결과\n"
     ]
    },
    {
     "data": {
      "text/plain": [
       "KMeans(algorithm='auto', copy_x=True, init='k-means++', max_iter=300,\n",
       "       n_clusters=40, n_init=10, n_jobs=None, precompute_distances='auto',\n",
       "       random_state=None, tol=0.0001, verbose=0)"
      ]
     },
     "execution_count": 3,
     "metadata": {},
     "output_type": "execute_result"
    }
   ],
   "source": [
    "print(\"** 원본 데이터 군집화 결과\")\n",
    "model = KMeans(n_clusters=40)\n",
    "model.fit(X)"
   ]
  },
  {
   "cell_type": "code",
   "execution_count": 4,
   "metadata": {},
   "outputs": [
    {
     "name": "stdout",
     "output_type": "stream",
     "text": [
      "군집화 성능:  0.1506476\n",
      "얼굴 일치율:  0.4737364740662131\n",
      "** 주성분 분석 후 군집화 결과\n"
     ]
    },
    {
     "data": {
      "text/plain": [
       "KMeans(algorithm='auto', copy_x=True, init='k-means++', max_iter=300,\n",
       "       n_clusters=40, n_init=10, n_jobs=None, precompute_distances='auto',\n",
       "       random_state=None, tol=0.0001, verbose=0)"
      ]
     },
     "execution_count": 4,
     "metadata": {},
     "output_type": "execute_result"
    }
   ],
   "source": [
    "print(\"군집화 성능: \", silhouette_score(X, model.labels_))\n",
    "print(\"얼굴 일치율: \", metrics.adjusted_rand_score(model.labels_, person_ids))\n",
    "print(\"** 주성분 분석 후 군집화 결과\")\n",
    "pca = PCA(25)\n",
    "pca.fit(X)\n",
    "X_reduced = pca.transform(X)\n",
    "model_reduced = KMeans(n_clusters=40)\n",
    "model_reduced.fit(X_reduced)"
   ]
  },
  {
   "cell_type": "code",
   "execution_count": 5,
   "metadata": {},
   "outputs": [
    {
     "name": "stdout",
     "output_type": "stream",
     "text": [
      "군집화 성능:  0.23141764\n",
      "얼굴 일치율:  0.4766449149122548\n"
     ]
    }
   ],
   "source": [
    "labels_reduced = model_reduced.labels_\n",
    "print(\"군집화 성능: \", silhouette_score(X_reduced, model_reduced.labels_))\n",
    "print(\"얼굴 일치율: \", metrics.adjusted_rand_score(model_reduced.labels_, person_ids))"
   ]
  },
  {
   "cell_type": "code",
   "execution_count": 6,
   "metadata": {},
   "outputs": [
    {
     "data": {
      "image/png": "[encoded data removed]",
      "text/plain": [
       "<Figure size 432x288 with 1 Axes>"
      ]
     },
     "metadata": {},
     "output_type": "display_data"
    }
   ],
   "source": [
    "sample_face = image_array[0,:,:]\n",
    "plt.imshow(sample_face)\n",
    "plt.title(\"Example of Face\")\n",
    "plt.xticks([])\n",
    "plt.yticks([])\n",
    "plt.show()"
   ]
  },
  {
   "cell_type": "code",
   "execution_count": null,
   "metadata": {},
   "outputs": [],
   "source": [
    "eigenface0 = pca.components_[0,:].reshape((64, 64))\n",
    "plt.imshow(eigenface0)\n",
    "plt.title(\"EigenFace 0\")\n",
    "plt.xticks([])\n",
    "plt.yticks([])\n",
    "plt.show()\n",
    "\n",
    "eigenface1 = pca.components_[1,:].reshape((64,64))\n",
    "plt.imshow(eigenface1)\n",
    "plt.title(\"EigenFace 1\")\n",
    "plt.xticks([])\n",
    "plt.yticks([])\n",
    "plt.show()\n",
    "\n",
    "pd.Series(pca.explained_variance_ratio_).plot()\n",
    "plt.title(\"Eigenface and sklee plot\")\n",
    "plt.show()"
   ]
  }
 ],
 "metadata": {
  "kernelspec": {
   "display_name": "Python 3",
   "language": "python",
   "name": "python3"
  },
  "language_info": {
   "codemirror_mode": {
    "name": "ipython",
    "version": 3
   },
   "file_extension": ".py",
   "mimetype": "text/x-python",
   "name": "python",
   "nbconvert_exporter": "python",
   "pygments_lexer": "ipython3",
   "version": "3.6.4"
  }
 },
 "nbformat": 4,
 "nbformat_minor": 4
}
